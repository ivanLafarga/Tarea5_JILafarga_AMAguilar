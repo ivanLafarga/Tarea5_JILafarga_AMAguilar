{
 "cells": [
  {
   "cell_type": "markdown",
   "id": "ae6b6fc9",
   "metadata": {},
   "source": [
    "<img style=\"float: left; margin: 30px 15px 15px 15px;\" src=\"https://pngimage.net/wp-content/uploads/2018/06/logo-iteso-png-5.png\" width=\"300\" height=\"500\" /> \n",
    "    \n",
    "    \n",
    "### <font color='navy'> Simulación de procesos financieros. \n",
    "\n",
    "**Nombres:** Ivan Lafarga Lizarraga, Ana Maria Aguilar\n",
    "\n",
    "**Fecha:** 11 de Octubre del 2021.\n",
    "\n",
    "**Expediente** : 708989 y 720567.\n",
    "**Profesor:** Oscar David Jaramillo Zuluaga.\n",
    "\n",
    "# Tarea 5: Clase 9"
   ]
  },
  {
   "cell_type": "markdown",
   "id": "5824e670",
   "metadata": {},
   "source": [
    "### Link de Github:\n",
    "https://github.com/ivanLafarga/Tarea5_JILafarga_AMAguilar"
   ]
  },
  {
   "cell_type": "markdown",
   "id": "0705fcef",
   "metadata": {},
   "source": [
    "># <font> **Tarea 5** \n",
    "    \n",
    "> Para las siguiente dos funciones, genere muestres aleatorias que distribuyan según la función dada usando el método de la transformada inversa y grafique el histograma de 1000 muestras generadas con el método de la transformada inversa y compárela con el función $f(x)$ **(recuerde que $f(x)$ es la distribución de probabilidad y $F(x)$ es la distribución de probabilidad acumulada)** [ver este enlace para más información](https://es.wikipedia.org/wiki/Funci%C3%B3n_de_distribuci%C3%B3n). Este procedimiento se realiza con el fín de validar que el procedimiento y los resultados son correctos.\n",
    "    \n",
    "> 1. Generación variable aleatoria continua\n",
    ">El tiempo en el cual un movimiento browniano se mantiene sobre su punto máximo en el intervalo [0,1] tiene una distribución\n",
    ">$$F(x)=\\frac{2}{\\pi}\\sin^{-1}(\\sqrt x),\\quad 0\\leq x\\leq 1$$ </font>\n",
    "\n",
    "> 2. Generación variable aleatoria Discreta\n",
    "> La distribución binomial modela el número de éxitos de n ensayos independientes donde hay una probabilidad p de éxito en cada ensayo.\n",
    "> Generar una variable aletoria binomial con parámetros $n=10$ y $p=0.7$. Recordar que $$X\\sim binomial(n,p) \\longrightarrow p_i=P(X=i)=\\frac{n!}{i!(n-i)!}p^i(1-p)^{n-i},\\quad i=0,1,\\cdots,n$$\n",
    "> Por propiedades de la operación factorial la anterior $p_i$ se puede escribir como:\n",
    "> $$p_{i+1}=\\frac{n-i}{i+1}\\frac{p}{1-p} p_i $$\n",
    "\n",
    "> **Nota:** Por notación recuerde que para el caso continuo $f(x)$ es la distribución de probabilidad (PDF), mientras $F(x)$ corresponde a la distribución de probabilidad acumulada (CDF). Para el caso discreto, $P(X=i)$ corresponde a su distribución de probabilidad (PMF) y $ F_{X}(x)=\\operatorname {P} (X\\leq x)=\\sum _{x_{i}\\leq x}\\operatorname {P} (X=x_{i})=\\sum _{x_{i}\\leq x}p(x_{i})$, corresponde a su distribución de probabilidad acumulada (CDF).\n",
    "\n"
   ]
  },
  {
   "cell_type": "markdown",
   "id": "ff05255d",
   "metadata": {},
   "source": [
    "### <font > **Ejercicio 1:** \n",
    "> 1. Generación variable aleatoria continua\n",
    ">El tiempo en el cual un movimiento browniano se mantiene sobre su punto máximo en el intervalo [0,1] tiene una distribución\n",
    ">$$F(x)=\\frac{2}{\\pi}\\sin^{-1}(\\sqrt x),\\quad 0\\leq x\\leq 1$$ </font>\n",
    "\n"
   ]
  },
  {
   "cell_type": "code",
   "execution_count": 3,
   "id": "1e417f2a",
   "metadata": {},
   "outputs": [],
   "source": [
    "#Librerías:\n",
    "###Se importan librerías\n",
    "import numpy as np\n",
    "import matplotlib.pyplot as plt\n",
    "import seaborn as sns; sns.set()\n",
    "import scipy"
   ]
  },
  {
   "cell_type": "markdown",
   "id": "af5f18ca",
   "metadata": {},
   "source": [
    "### Solucines Ivan "
   ]
  },
  {
   "cell_type": "code",
   "execution_count": 6,
   "id": "3c8fb0e1",
   "metadata": {},
   "outputs": [
    {
     "data": {
      "image/png": "[encoded data removed]",
      "text/plain": [
       "<Figure size 360x360 with 1 Axes>"
      ]
     },
     "metadata": {},
     "output_type": "display_data"
    }
   ],
   "source": [
    "# Código de solución \n",
    "#al despejar x en la función acumulada F(x) obtenemos que: x = sin**2((pi*U)/2)\n",
    "n = 10000\n",
    "\n",
    "\n",
    "\n",
    "def movimientoBrowniano(n):\n",
    "    return np.sin((np.random.rand(n)*np.pi)/2)**2\n",
    "\n",
    "\n",
    "x = np.arange(0.01,1,0.01)\n",
    "z = movimientoBrowniano(n)\n",
    "plt.figure(figsize=(5,5))\n",
    "plt.title(\"Histograma_1\",fontsize=15)\n",
    "plt.xlabel('Valores aleatorios',fontsize=15)\n",
    "plt.ylabel('Probabilidad',fontsize=15)\n",
    "plt.hist(z,bins=50,density=True,label='Distribución movimiento browniano',color='green')\n",
    "\n",
    "\n",
    "\n",
    "#después se deriva para conocer la función f(x) y se obtiene que es: (1)/(np.pi*np.sqrt(1-x)*np.sqrt(x))\n",
    "fx = lambda x: (1)/(np.pi*np.sqrt(1-x)*np.sqrt(x))\n",
    "plt.plot(x,fx(x),lw=4,label=\"función f(x)\",color='red',ls=\"-\")\n",
    "plt.legend()\n",
    "plt.grid()\n",
    "plt.show()"
   ]
  },
  {
   "cell_type": "markdown",
   "id": "57e3c38a",
   "metadata": {},
   "source": [
    "# Operaciones para llegar al resultado\n",
    " <span style=\"black\">Despeje de F(x) para conocer x e igualando a u (inversa):\n",
    "\n",
    "<span style=\"black\">$$ u = F(x)=\\frac{2}{\\pi}\\sin^{-1}(\\sqrt x) = \\sin^{-1}(\\sqrt x)= \\frac{\\pi u}{2} \\sqrt x = \\sin(\\frac{\\pi u}{2})$$ \n",
    "$$\\sin^{-1}(\\sqrt x)= \\sin(\\frac{\\pi u}{2})$$\n",
    "Lo que usamos en la función de movimiento Browniano, entonces nos da: $$x = \\sin^{2}(\\frac{\\pi u}{2})$$ \n",
    "\n",
    " <span style=\"black\">Como cuando se tiene la función $f(x)$ y requerimos calcular F(x) se integra entonces se hace lo opuesto que es derivar, para conocer f(x) a partir de $F(x)$:\n",
    "\n",
    "\n",
    " <span style=\"color:black\"> $$f(x) = \\frac{d}{dx}(\\frac{2}{\\pi}\\sin^{-1}(\\sqrt x))=\\frac{2}{\\pi} \\frac{d}{dx}(\\sin^{-1}(\\sqrt x))=\\frac{d}{dx}(\\frac{2}{\\pi}\\sin^{-1}(\\sqrt x))$$ \n",
    "\n",
    "<span style=\"color:black\">Respuesta para f(x) : $$f(x)=\\frac{1}{\\pi\\sqrt{1-x}\\sqrt{x}}$$\n",
    "\n"
   ]
  },
  {
   "cell_type": "markdown",
   "id": "b1c54f49",
   "metadata": {},
   "source": [
    "### Solucines Ana "
   ]
  },
  {
   "cell_type": "code",
   "execution_count": null,
   "id": "b7b87d74",
   "metadata": {},
   "outputs": [],
   "source": []
  },
  {
   "cell_type": "code",
   "execution_count": null,
   "id": "123105fb",
   "metadata": {},
   "outputs": [],
   "source": []
  },
  {
   "cell_type": "markdown",
   "id": "da30847a",
   "metadata": {},
   "source": [
    "### <font> **Ejercicio 2:** \n",
    "> 2. Generación variable aleatoria Discreta\n",
    "> La distribución binomial modela el número de éxitos de n ensayos independientes donde hay una probabilidad p de éxito en cada ensayo.\n",
    "> Generar una variable aletoria binomial con parámetros $n=10$ y $p=0.7$. Recordar que $$X\\sim binomial(n,p) \\longrightarrow p_i=P(X=i)=\\frac{n!}{i!(n-i)!}p^i(1-p)^{n-i},\\quad i=0,1,\\cdots,n$$\n",
    "> Por propiedades de la operación factorial la anterior $p_i$ se puede escribir como:\n",
    "> $$p_{i+1}=\\frac{n-i}{i+1}\\frac{p}{1-p} p_i $$"
   ]
  },
  {
   "cell_type": "markdown",
   "id": "fb12cf48",
   "metadata": {},
   "source": [
    "### Solucines Ivan "
   ]
  },
  {
   "cell_type": "code",
   "execution_count": 11,
   "id": "77ce7ddb",
   "metadata": {},
   "outputs": [
    {
     "data": {
      "image/png": "[encoded data removed]",
      "text/plain": [
       "<Figure size 432x288 with 1 Axes>"
      ]
     },
     "metadata": {},
     "output_type": "display_data"
    }
   ],
   "source": [
    "N=100\n",
    "\n",
    "# Funcion :\n",
    "def binom():\n",
    "    x = 10; p = 0.7; N = 100\n",
    "    result = []\n",
    "    for a in range(N):\n",
    "        result.append(scipy.stats.binom.cdf(x, N, p))\n",
    "        x += 3\n",
    "    return result\n",
    "def Gen_distr_discreta(p_acum: 'P.Acumulada de la distribución a generar',\n",
    "                       N: 'cantidad de números aleatorios a generar'):\n",
    "    \n",
    "    U =np.random.rand(N)\n",
    "    # los valores aletorios\n",
    "    y = ([sum([1 for p in p_acum if p < ui]) for ui in U])\n",
    "    return y\n",
    "def plot_histogram_discrete(distribucion:'distribución a graficar histograma',\n",
    "                            label:'label del legend'):\n",
    "    # len(set(distribucion)) cuenta la cantidad de elementos distintos de la variable 'distribucion'\n",
    "    plt.figure(figsize=[6,4])\n",
    "    y,x = np.histogram(distribucion,bins = len(set(distribucion))) \n",
    "    plt.bar(list(set(distribucion)),y,label=label,color=\"blue\")\n",
    "    plt.legend()\n",
    "    plt.grid()\n",
    "    plt.show()\n",
    "p_acum = binom() \n",
    "distribucion = Gen_distr_discreta(p_acum,N) \n",
    "plot_histogram_discrete(distribucion,\"Distribución de función\")\n"
   ]
  },
  {
   "cell_type": "markdown",
   "id": "b4f070ec",
   "metadata": {},
   "source": [
    "### Respuesta Ivan\n",
    "Lo primero que se realizo fue la replicación de una función de distribución binomial acumulada, para que con otra función se generará otra función pero ahora discreta y podemos ver el resultado en la grafica"
   ]
  },
  {
   "cell_type": "markdown",
   "id": "10fc0975",
   "metadata": {},
   "source": [
    "### Solucines Ana "
   ]
  },
  {
   "cell_type": "code",
   "execution_count": null,
   "id": "11a646a1",
   "metadata": {},
   "outputs": [],
   "source": []
  }
 ],
 "metadata": {
  "kernelspec": {
   "display_name": "Python 3",
   "language": "python",
   "name": "python3"
  },
  "language_info": {
   "codemirror_mode": {
    "name": "ipython",
    "version": 3
   },
   "file_extension": ".py",
   "mimetype": "text/x-python",
   "name": "python",
   "nbconvert_exporter": "python",
   "pygments_lexer": "ipython3",
   "version": "3.8.8"
  }
 },
 "nbformat": 4,
 "nbformat_minor": 5
}
